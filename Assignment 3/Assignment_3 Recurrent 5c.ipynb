{
 "cells": [
  {
   "cell_type": "markdown",
   "id": "b408ad95",
   "metadata": {
    "id": "b408ad95"
   },
   "source": [
    "## Installed Packages"
   ]
  },
  {
   "cell_type": "code",
   "execution_count": null,
   "id": "31912917",
   "metadata": {
    "colab": {
     "base_uri": "https://localhost:8080/"
    },
    "id": "31912917",
    "outputId": "075335ba-5829-4208-bba4-876b05f3803b",
    "scrolled": true
   },
   "outputs": [],
   "source": [
    "import sys\n",
    "!{sys.executable} -m pip install contractions\n",
    "!{sys.executable} -m pip install gensim==4.2.0\n",
    "!pip install scikit-learn\n",
    "!pip install torch torchvision torchaudio"
   ]
  },
  {
   "cell_type": "code",
   "execution_count": null,
   "id": "b9cac7ca",
   "metadata": {
    "colab": {
     "base_uri": "https://localhost:8080/"
    },
    "id": "b9cac7ca",
    "outputId": "f5e2f0e2-b675-4ad2-80e8-a92936b45e5d"
   },
   "outputs": [],
   "source": [
    "## Importing and installing libraries\n",
    "\n",
    "import numpy as np\n",
    "import copy\n",
    "import pandas as pd\n",
    "import warnings \n",
    "import re\n",
    "import sys\n",
    "import nltk\n",
    "from gensim.models import Word2Vec\n",
    "from nltk.corpus import stopwords\n",
    "import string\n",
    "from torch import nn\n",
    "import torch.nn as nn\n",
    "import torch.nn.functional as F\n",
    "import torch\n",
    "from torch.nn import CrossEntropyLoss, Softmax, Linear\n",
    "from torch.optim import SGD, Adam\n",
    "from sklearn.metrics.pairwise import cosine_similarity\n",
    "from torch.optim.lr_scheduler import ReduceLROnPlateau\n",
    "from nltk.stem import WordNetLemmatizer\n",
    "from gensim.models import KeyedVectors\n",
    "from gensim import utils\n",
    "from scipy.sparse import hstack\n",
    "from sklearn.feature_extraction.text import TfidfVectorizer\n",
    "from sklearn.model_selection import train_test_split\n",
    "from sklearn.linear_model import Perceptron\n",
    "from sklearn.metrics import classification_report\n",
    "from sklearn import svm\n",
    "from sklearn.linear_model import LogisticRegression\n",
    "from sklearn.naive_bayes import MultinomialNB\n",
    "from sklearn.svm import LinearSVC\n",
    "from statistics import mean\n",
    "from os import path\n",
    "import os.path\n",
    "import gensim\n",
    "import gensim.downloader\n",
    "from sklearn.svm import LinearSVC\n",
    "\n",
    "nltk.download('punkt')\n",
    "\n",
    "warnings.filterwarnings('ignore')\n",
    "\n",
    "import contractions"
   ]
  },
  {
   "cell_type": "markdown",
   "id": "50330ee0",
   "metadata": {
    "id": "50330ee0"
   },
   "source": [
    "## 1. Dataset Generation"
   ]
  },
  {
   "cell_type": "code",
   "execution_count": 6,
   "id": "791a4b96",
   "metadata": {
    "id": "791a4b96"
   },
   "outputs": [],
   "source": [
    "#fields required in the balanced dataframe from the original dataset\n",
    "input_column=[\"review_body\",\"star_rating\"]\n",
    "\n",
    "#reading the original dataset to filter the columns that are required\n",
    "input_df =pd.read_csv('https://s3.amazonaws.com/amazon-reviews-pds/tsv/amazon_reviews_us_Beauty_v1_00.tsv.gz',usecols=input_column,sep='\\t',error_bad_lines=False)"
   ]
  },
  {
   "cell_type": "code",
   "execution_count": 8,
   "id": "3317dfe3",
   "metadata": {
    "id": "3317dfe3"
   },
   "outputs": [],
   "source": [
    "#Creating 3 different classes to get 20000 data from each class to avoid computational burden\n",
    "\n",
    "class_one_df =(input_df[(input_df['star_rating'] == 1) | (input_df['star_rating'] == 2) ]).sample(n=20000)\n",
    "class_one_df['class']=1\n",
    "\n",
    "class_two_df =(input_df[(input_df['star_rating'] == 3)]).sample(n=20000)\n",
    "class_two_df['class']=2\n",
    "\n",
    "class_three_df =(input_df[(input_df['star_rating'] == 4) | (input_df['star_rating'] == 5) ]).sample(n=20000)\n",
    "class_three_df['class']=3\n",
    "\n",
    "#Combining all the data received from each class into a single balanced dataframe\n",
    "\n",
    "amazon_balanced_df = pd.concat([class_one_df, class_two_df, class_three_df])\n",
    "\n",
    "#Resetting the index as we have retrieved different data according to the classes created.\n",
    "#Therefore, we will have irregular or unsorted index keys. \n",
    "#We will reset the index to the new and incremental values from 0\n",
    "\n",
    "amazon_balanced_df = amazon_balanced_df.reset_index(drop=True)\n",
    "\n",
    "# Created a new dataframe consisting of the two columns (star_rating and review_body) \n",
    "#along with class one assigned to them on the basis of star_rating. We are also resetting the index"
   ]
  },
  {
   "cell_type": "markdown",
   "id": "2c26f1c1",
   "metadata": {
    "id": "2c26f1c1"
   },
   "source": [
    "### Data Cleaning "
   ]
  },
  {
   "cell_type": "markdown",
   "id": "2f3d5ab5",
   "metadata": {
    "id": "2f3d5ab5"
   },
   "source": [
    "### Handling null values"
   ]
  },
  {
   "cell_type": "code",
   "execution_count": 9,
   "id": "3b712481",
   "metadata": {
    "id": "3b712481"
   },
   "outputs": [],
   "source": [
    "#We are changing all null values to an empty string\n",
    "\n",
    "amazon_balanced_df = amazon_balanced_df.fillna('')"
   ]
  },
  {
   "cell_type": "code",
   "execution_count": 10,
   "id": "816443d1",
   "metadata": {
    "id": "816443d1"
   },
   "outputs": [],
   "source": [
    "#Uncleaned data copy\n",
    "amazon_df=amazon_balanced_df.copy()"
   ]
  },
  {
   "cell_type": "markdown",
   "id": "de263c8c",
   "metadata": {
    "id": "de263c8c"
   },
   "source": [
    "### Convert all reviews into lowercase"
   ]
  },
  {
   "cell_type": "code",
   "execution_count": 11,
   "id": "6e7707d5",
   "metadata": {
    "id": "6e7707d5"
   },
   "outputs": [],
   "source": [
    "# Converting all review body into lowercase\n",
    "\n",
    "amazon_balanced_df['review_body'] = amazon_balanced_df['review_body'].str.lower()"
   ]
  },
  {
   "cell_type": "markdown",
   "id": "148e2913",
   "metadata": {
    "id": "148e2913"
   },
   "source": [
    "### Remove the HTML from the reviews"
   ]
  },
  {
   "cell_type": "code",
   "execution_count": 12,
   "id": "32ca361f",
   "metadata": {
    "id": "32ca361f"
   },
   "outputs": [],
   "source": [
    "# Removing all the html tags from each review body \n",
    "\n",
    "amazon_balanced_df['review_body']=amazon_balanced_df['review_body'].apply(lambda x : re.sub('<.*?>','',str(x)))\n"
   ]
  },
  {
   "cell_type": "markdown",
   "id": "c7e00124",
   "metadata": {
    "id": "c7e00124"
   },
   "source": [
    "### Remove the URLs from the reviews"
   ]
  },
  {
   "cell_type": "code",
   "execution_count": 13,
   "id": "e6904642",
   "metadata": {
    "id": "e6904642"
   },
   "outputs": [],
   "source": [
    "# Removing all the URLs from each review body \n",
    "\n",
    "amazon_balanced_df['review_body'] = amazon_balanced_df['review_body'].apply(lambda y: re.split('https:\\/\\/.*', str(y))[0])\n"
   ]
  },
  {
   "cell_type": "markdown",
   "id": "ec91edcf",
   "metadata": {
    "id": "ec91edcf"
   },
   "source": [
    "### Remove non-alphabetical characters"
   ]
  },
  {
   "cell_type": "code",
   "execution_count": 14,
   "id": "43757d50",
   "metadata": {
    "id": "43757d50"
   },
   "outputs": [],
   "source": [
    "# Removing all the non alphabetic chaarcters(symbols, numbers) from each review body \n",
    "\n",
    "amazon_balanced_df['review_body'] = amazon_balanced_df['review_body'].apply(lambda z: \" \".join([re.sub('[^A-Za-z]+','', z) for z in nltk.word_tokenize(z)]))\n"
   ]
  },
  {
   "cell_type": "markdown",
   "id": "3e5e594d",
   "metadata": {
    "id": "3e5e594d"
   },
   "source": [
    "### Remove extra spaces"
   ]
  },
  {
   "cell_type": "code",
   "execution_count": 15,
   "id": "d078c690",
   "metadata": {
    "id": "d078c690"
   },
   "outputs": [],
   "source": [
    "# Will remove leading and trailing spaces\n",
    "amazon_balanced_df['review_body'] = amazon_balanced_df['review_body'].str.strip()\n"
   ]
  },
  {
   "cell_type": "markdown",
   "id": "d7769377",
   "metadata": {
    "id": "d7769377"
   },
   "source": [
    "### Perform contractions on the review_body"
   ]
  },
  {
   "cell_type": "code",
   "execution_count": 16,
   "id": "0f866c40",
   "metadata": {
    "id": "0f866c40"
   },
   "outputs": [],
   "source": [
    "## This will elongate the short form used in sentences like (I'll ---> I will)\n",
    "\n",
    "amazon_balanced_df['without_contraction'] = amazon_balanced_df['review_body'].apply(lambda a: [contractions.fix(word) for word in a.split()])\n",
    "amazon_balanced_df['review_body'] = [' '.join(map(str, x)) for x in amazon_balanced_df['without_contraction']]\n"
   ]
  },
  {
   "cell_type": "markdown",
   "id": "eb8d8987",
   "metadata": {
    "id": "eb8d8987"
   },
   "source": [
    "## Remove Punctuations "
   ]
  },
  {
   "cell_type": "code",
   "execution_count": 17,
   "id": "f7a428a2",
   "metadata": {
    "id": "f7a428a2"
   },
   "outputs": [],
   "source": [
    "amazon_balanced_df['review_body'] = amazon_balanced_df['review_body'].str.replace(r'[^\\w\\s]+', '')"
   ]
  },
  {
   "cell_type": "markdown",
   "id": "6866fdc8",
   "metadata": {
    "id": "6866fdc8"
   },
   "source": [
    "## 2. Word Embedding"
   ]
  },
  {
   "cell_type": "markdown",
   "id": "0f4d2c8d",
   "metadata": {
    "id": "0f4d2c8d"
   },
   "source": [
    "### (a) Downloading pretrained word2vec-google-news-300"
   ]
  },
  {
   "cell_type": "code",
   "execution_count": 20,
   "id": "hwM_SlhDijgG",
   "metadata": {
    "id": "hwM_SlhDijgG"
   },
   "outputs": [],
   "source": [
    "# word2vec_model = gensim.downloader.load('word2vec-google-news-300')\n",
    "# word2vec_model.save('Gensim_word2vec_model.kv')"
   ]
  },
  {
   "cell_type": "code",
   "execution_count": 21,
   "id": "70cad8bc",
   "metadata": {
    "id": "70cad8bc"
   },
   "outputs": [],
   "source": [
    "from gensim.models import KeyedVectors\n",
    "word2vec_model= KeyedVectors.load(\"Gensim_word2vec_model.kv\")"
   ]
  },
  {
   "cell_type": "markdown",
   "id": "9c94ec17",
   "metadata": {
    "id": "9c94ec17"
   },
   "source": [
    "### Process to extract word2vec embeddings"
   ]
  },
  {
   "cell_type": "code",
   "execution_count": 23,
   "id": "aa9e771f",
   "metadata": {
    "id": "aa9e771f"
   },
   "outputs": [],
   "source": [
    "embedding_space_concat = []\n",
    "for i in range(60000):\n",
    "    vectorWord = [] # change the size of the vector\n",
    "    listword = amazon_df['review_body'][i].split(\" \")\n",
    "    for item in listword[:20]:\n",
    "        if item in word2vec_model:\n",
    "            x=np.reshape(word2vec_model[item], (1, 300))\n",
    "            vectorWord.append(x)\n",
    "    vectorWord=vectorWord[1:]\n",
    "    if len(vectorWord) < 20:\n",
    "        di = 20 - len(vectorWord)\n",
    "        vectorWord += [np.zeros((1, 300))] * di\n",
    "            \n",
    "    embedding_space_concat.append(vectorWord)\n",
    "embedding_dataset_concat=np.array(embedding_space_concat)\n",
    "embedding_dataset_concat=embedding_dataset_concat.reshape(embedding_dataset_concat.shape[0], embedding_dataset_concat.shape[1], embedding_dataset_concat.shape[3])"
   ]
  },
  {
   "cell_type": "code",
   "execution_count": 24,
   "id": "pHO9ryGTX0kt",
   "metadata": {
    "colab": {
     "base_uri": "https://localhost:8080/"
    },
    "id": "pHO9ryGTX0kt",
    "outputId": "85c6cc9f-4e71-4e15-809f-2a7e6a2b8826"
   },
   "outputs": [
    {
     "data": {
      "text/plain": [
       "(60000, 20, 300)"
      ]
     },
     "execution_count": 24,
     "metadata": {},
     "output_type": "execute_result"
    }
   ],
   "source": [
    "embedding_dataset_concat.shape"
   ]
  },
  {
   "cell_type": "code",
   "execution_count": 25,
   "id": "LBPkdh5igFMc",
   "metadata": {
    "id": "LBPkdh5igFMc"
   },
   "outputs": [],
   "source": [
    "A_train, A_test, B_train, B_test = train_test_split(embedding_dataset_concat, amazon_df['class'], test_size=0.20, random_state=42, stratify=amazon_df['class'])"
   ]
  },
  {
   "cell_type": "code",
   "execution_count": 26,
   "id": "45634361",
   "metadata": {
    "id": "45634361"
   },
   "outputs": [
    {
     "name": "stdout",
     "output_type": "stream",
     "text": [
      "(48000, 20, 300) (12000, 20, 300) (48000,) (12000,)\n"
     ]
    }
   ],
   "source": [
    "\n",
    "B_train = B_train.reset_index(drop=True)\n",
    "B_test = B_test.reset_index(drop=True)\n",
    "\n",
    "\n",
    "print(A_train.shape, A_test.shape, B_train.shape, B_test.shape)"
   ]
  },
  {
   "cell_type": "markdown",
   "id": "1825c7c4",
   "metadata": {
    "id": "1825c7c4"
   },
   "source": [
    "## 5. Recurrent Neural Networks"
   ]
  },
  {
   "cell_type": "code",
   "execution_count": 27,
   "id": "6069036d",
   "metadata": {
    "id": "6069036d"
   },
   "outputs": [],
   "source": [
    "from torch.utils.data import Dataset, DataLoader"
   ]
  },
  {
   "cell_type": "code",
   "execution_count": 28,
   "id": "32ee0a2c",
   "metadata": {
    "id": "32ee0a2c"
   },
   "outputs": [],
   "source": [
    "#Creating a dataloader using torch\n",
    "class dataloader(torch.utils.data.Dataset):\n",
    "    def __init__(self, dataset_record, label_record):\n",
    "        self.dataset = dataset_record\n",
    "        self.labels = label_record\n",
    "        \n",
    "    def __len__(self):\n",
    "        return len(self.labels)\n",
    "        \n",
    "    def __getitem__(self, index):\n",
    "        dataset = self.dataset[index]\n",
    "        labels  = self.labels[index]\n",
    "        \n",
    "        return dataset, labels"
   ]
  },
  {
   "cell_type": "code",
   "execution_count": 29,
   "id": "d7171096",
   "metadata": {
    "id": "d7171096"
   },
   "outputs": [],
   "source": [
    "# Convert A_train and A_test to float32 \n",
    "A_word2vec_train = A_train.astype(np.float32)\n",
    "A_word2vec_test  = A_test.astype(np.float32)\n",
    "\n",
    "# Subtract 1 from B_train and B_test values\n",
    "B_train = B_train - 1\n",
    "B_test = B_test - 1\n",
    "\n",
    "# Create PyTorch DataLoader objects for the training and testing sets\n",
    "train_dataset = dataloader(A_word2vec_train, B_train)\n",
    "train_set = torch.utils.data.DataLoader(train_dataset, batch_size=100)\n",
    "\n",
    "test_dataset = dataloader(A_word2vec_test, B_test)\n",
    "test_set = torch.utils.data.DataLoader(test_dataset, batch_size=100)"
   ]
  },
  {
   "cell_type": "code",
   "execution_count": 30,
   "id": "smcVtvTOyavb",
   "metadata": {
    "id": "smcVtvTOyavb"
   },
   "outputs": [],
   "source": [
    "from sklearn.metrics import accuracy_score, f1_score"
   ]
  },
  {
   "cell_type": "code",
   "execution_count": 31,
   "id": "4b31d304",
   "metadata": {
    "id": "4b31d304"
   },
   "outputs": [],
   "source": [
    "def train(reviews_dataloader_train, reviews_dataloader_test, model, num_epochs, concat=True, rnn=True, gru=False, prev_loss=float('inf')):\n",
    "    y_pred_label_train = []\n",
    "    y_true_label_train = []\n",
    "    y_pred_label_test = []\n",
    "    y_true_label_test = []\n",
    "    \n",
    "    # Set the device for the model\n",
    "    # device = torch.device('cuda' if torch.cuda.is_available() else 'cpu')\n",
    "    # model.to(device)\n",
    "    \n",
    "    # Define the loss function and optimizer\n",
    "    criterion = nn.CrossEntropyLoss()\n",
    "    optimizer = Adam(model.parameters(), lr=0.001)\n",
    "    # optimizer = SGD(rnn.parameters(), lr=1e-2)\n",
    "    scheduler = ReduceLROnPlateau(optimizer)\n",
    "    \n",
    "    # optimizer = Adam(model.parameters(), lr=0.001)\n",
    "    softmax = Softmax(dim=1)\n",
    "    \n",
    "    # Define the scheduler\n",
    "    scheduler = torch.optim.lr_scheduler.StepLR(optimizer, step_size=5, gamma=0.1)\n",
    "    \n",
    "    # Keep track of the best model\n",
    "    best_model_wts = copy.deepcopy(model.state_dict())\n",
    "    best_acc = 0.0\n",
    "    \n",
    "    # Keep track of the previous loss\n",
    "    loss_min = prev_loss\n",
    "    \n",
    "    # Train the model\n",
    "    for epoch in range(num_epochs):\n",
    "        print('\\n Epoch: {}'.format(epoch))\n",
    "        \n",
    "        # print(reviews_dataloader_train)\n",
    "        for j, (x, y) in enumerate(reviews_dataloader_train):\n",
    "            y_pred = model(x)\n",
    "            y_pred_label_train.append(torch.argmax(softmax(y_pred.detach()), axis=1))\n",
    "            y_true_label_train.append(y.detach())\n",
    "            loss = criterion(y_pred, y)\n",
    "            \n",
    "            optimizer.zero_grad()\n",
    "            loss.backward()\n",
    "            optimizer.step()\n",
    "            \n",
    "            # if j % 100 == 0:\n",
    "            #     print('Epoch {:03} Batch {:03}/{:03} Loss: {:.4f}'.format(epoch, j, len(reviews_dataloader_train), loss.item()))\n",
    "                \n",
    "        # Evaluate the model on the test set\n",
    "        with torch.no_grad():\n",
    "            for x, y in reviews_dataloader_test:\n",
    "                y_pred = model(x)\n",
    "                y_pred_label_test.append(torch.argmax(softmax(y_pred.detach()), axis=1))\n",
    "                y_true_label_test.append(y.detach())\n",
    "\n",
    "        # Calculate accuracy and f1-score\n",
    "        y_pred_train = torch.cat(y_pred_label_train)\n",
    "        y_true_train = torch.cat(y_true_label_train)\n",
    "        y_pred_test = torch.cat(y_pred_label_test)\n",
    "        y_true_test = torch.cat(y_true_label_test)\n",
    "        \n",
    "        train_acc = accuracy_score(y_true_train.cpu().numpy(), y_pred_train.cpu().numpy())\n",
    "        test_acc = accuracy_score(y_true_test.cpu().numpy(), y_pred_test.cpu().numpy())\n",
    "        train_f1 = f1_score(y_true_train.cpu().numpy(), y_pred_train.cpu().numpy(), average='macro')\n",
    "        test_f1 = f1_score(y_true_test.cpu().numpy(), y_pred_test.cpu().numpy(), average='macro')\n",
    "\n",
    "        print('Epoch: {:03}, Loss: {:.4f}, Train Acc: {:.4f}, Test Acc: {:.4f}'.format(epoch, loss.item(), train_acc, test_acc))\n",
    "        \n",
    "        # Update the learning rate\n",
    "        scheduler.step()\n",
    "        \n",
    "        # Save the best model based on test accuracy\n",
    "        if test_acc > best_acc:\n",
    "            best_acc = test_acc\n",
    "            best_model_wts = copy.deepcopy(model.state_dict())\n",
    "            \n",
    "        # Save the model checkpoint\n",
    "        # if loss.item() < loss_min:\n",
    "        #     print(f'Loss decreased from {loss_min:.4f} to {loss.item():.4f}. Saving model...')\n",
    "        #     torch.save(model.state_dict(), 'model_checkpoint.pt')\n",
    "        #     loss\n"
   ]
  },
  {
   "cell_type": "markdown",
   "id": "UWhGXuoaWbnx",
   "metadata": {
    "id": "UWhGXuoaWbnx"
   },
   "source": [
    "## 5. (c)"
   ]
  },
  {
   "cell_type": "code",
   "execution_count": 32,
   "id": "be02d786",
   "metadata": {},
   "outputs": [],
   "source": [
    "class LSTM(nn.Module):\n",
    "    def __init__(self, num_classes, layers, hidden_size):\n",
    "        super(LSTM, self).__init__()\n",
    "        self.lstm = nn.LSTM(300, hidden_size, layers, batch_first=True) \n",
    "        self.linear = nn.Linear(hidden_size, num_classes)\n",
    "        \n",
    "    def forward(self, x):\n",
    "        return self.linear(self.lstm(x)[0][:, -1])"
   ]
  },
  {
   "cell_type": "code",
   "execution_count": 37,
   "id": "4cda544b",
   "metadata": {},
   "outputs": [],
   "source": [
    "lstm = LSTM(3,30,100)"
   ]
  },
  {
   "cell_type": "code",
   "execution_count": 50,
   "id": "d119acbf",
   "metadata": {},
   "outputs": [
    {
     "name": "stdout",
     "output_type": "stream",
     "text": [
      "\n",
      " Epoch: 0\n",
      "Epoch: 000, Loss: 0.8173, Train Acc: 0.6202, Test Acc: 0.6027\n",
      "\n",
      " Epoch: 1\n",
      "Epoch: 001, Loss: 0.7975, Train Acc: 0.6246, Test Acc: 0.6059\n",
      "\n",
      " Epoch: 2\n",
      "Epoch: 002, Loss: 0.7789, Train Acc: 0.6294, Test Acc: 0.6079\n",
      "\n",
      " Epoch: 3\n",
      "Epoch: 003, Loss: 0.7677, Train Acc: 0.6345, Test Acc: 0.6096\n",
      "\n",
      " Epoch: 4\n",
      "Epoch: 004, Loss: 0.7480, Train Acc: 0.6393, Test Acc: 0.6114\n",
      "\n",
      " Epoch: 5\n"
     ]
    }
   ],
   "source": [
    "tr = train(train_set, test_set, lstm, 5,True,True)"
   ]
  },
  {
   "cell_type": "code",
   "execution_count": 1,
   "id": "05fa33ea",
   "metadata": {},
   "outputs": [
    {
     "name": "stdout",
     "output_type": "stream",
     "text": [
      "Accuracy for LSTM is :61.14\n"
     ]
    }
   ],
   "source": [
    "print('Accuracy for LSTM is :61.14' )"
   ]
  },
  {
   "cell_type": "code",
   "execution_count": null,
   "id": "d2846068",
   "metadata": {},
   "outputs": [],
   "source": []
  }
 ],
 "metadata": {
  "accelerator": "TPU",
  "colab": {
   "provenance": []
  },
  "gpuClass": "standard",
  "kernelspec": {
   "display_name": "Python 3 (ipykernel)",
   "language": "python",
   "name": "python3"
  },
  "language_info": {
   "codemirror_mode": {
    "name": "ipython",
    "version": 3
   },
   "file_extension": ".py",
   "mimetype": "text/x-python",
   "name": "python",
   "nbconvert_exporter": "python",
   "pygments_lexer": "ipython3",
   "version": "3.9.13"
  }
 },
 "nbformat": 4,
 "nbformat_minor": 5
}
