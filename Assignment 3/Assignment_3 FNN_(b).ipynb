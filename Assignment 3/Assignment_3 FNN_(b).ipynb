{
 "cells": [
  {
   "cell_type": "markdown",
   "id": "b408ad95",
   "metadata": {
    "id": "b408ad95"
   },
   "source": [
    "## Installed Packages"
   ]
  },
  {
   "cell_type": "code",
   "execution_count": 1,
   "id": "31912917",
   "metadata": {
    "colab": {
     "base_uri": "https://localhost:8080/"
    },
    "id": "31912917",
    "outputId": "a2bdae99-469d-4132-c773-3c4ea2667b4d",
    "scrolled": true
   },
   "outputs": [
    {
     "name": "stdout",
     "output_type": "stream",
     "text": [
      "Looking in indexes: https://pypi.org/simple, https://us-python.pkg.dev/colab-wheels/public/simple/\n",
      "Collecting contractions\n",
      "  Downloading contractions-0.1.73-py2.py3-none-any.whl (8.7 kB)\n",
      "Collecting textsearch>=0.0.21\n",
      "  Downloading textsearch-0.0.24-py2.py3-none-any.whl (7.6 kB)\n",
      "Collecting anyascii\n",
      "  Downloading anyascii-0.3.1-py3-none-any.whl (287 kB)\n",
      "\u001b[2K     \u001b[90m━━━━━━━━━━━━━━━━━━━━━━━━━━━━━━━━━━━━━━━\u001b[0m \u001b[32m287.5/287.5 KB\u001b[0m \u001b[31m5.8 MB/s\u001b[0m eta \u001b[36m0:00:00\u001b[0m\n",
      "\u001b[?25hCollecting pyahocorasick\n",
      "  Downloading pyahocorasick-2.0.0-cp38-cp38-manylinux_2_5_x86_64.manylinux1_x86_64.whl (104 kB)\n",
      "\u001b[2K     \u001b[90m━━━━━━━━━━━━━━━━━━━━━━━━━━━━━━━━━━━━━━━\u001b[0m \u001b[32m104.5/104.5 KB\u001b[0m \u001b[31m7.7 MB/s\u001b[0m eta \u001b[36m0:00:00\u001b[0m\n",
      "\u001b[?25hInstalling collected packages: pyahocorasick, anyascii, textsearch, contractions\n",
      "Successfully installed anyascii-0.3.1 contractions-0.1.73 pyahocorasick-2.0.0 textsearch-0.0.24\n",
      "Looking in indexes: https://pypi.org/simple, https://us-python.pkg.dev/colab-wheels/public/simple/\n",
      "Collecting gensim==4.2.0\n",
      "  Downloading gensim-4.2.0-cp38-cp38-manylinux_2_12_x86_64.manylinux2010_x86_64.whl (24.1 MB)\n",
      "\u001b[2K     \u001b[90m━━━━━━━━━━━━━━━━━━━━━━━━━━━━━━━━━━━━━━━━\u001b[0m \u001b[32m24.1/24.1 MB\u001b[0m \u001b[31m33.3 MB/s\u001b[0m eta \u001b[36m0:00:00\u001b[0m\n",
      "\u001b[?25hRequirement already satisfied: scipy>=0.18.1 in /usr/local/lib/python3.8/dist-packages (from gensim==4.2.0) (1.10.1)\n",
      "Requirement already satisfied: numpy>=1.17.0 in /usr/local/lib/python3.8/dist-packages (from gensim==4.2.0) (1.24.2)\n",
      "Requirement already satisfied: smart-open>=1.8.1 in /usr/local/lib/python3.8/dist-packages (from gensim==4.2.0) (6.3.0)\n",
      "Installing collected packages: gensim\n",
      "  Attempting uninstall: gensim\n",
      "    Found existing installation: gensim 3.6.0\n",
      "    Uninstalling gensim-3.6.0:\n",
      "      Successfully uninstalled gensim-3.6.0\n",
      "Successfully installed gensim-4.2.0\n",
      "Looking in indexes: https://pypi.org/simple, https://us-python.pkg.dev/colab-wheels/public/simple/\n",
      "Requirement already satisfied: scikit-learn in /usr/local/lib/python3.8/dist-packages (1.2.1)\n",
      "Requirement already satisfied: scipy>=1.3.2 in /usr/local/lib/python3.8/dist-packages (from scikit-learn) (1.10.1)\n",
      "Requirement already satisfied: threadpoolctl>=2.0.0 in /usr/local/lib/python3.8/dist-packages (from scikit-learn) (3.1.0)\n",
      "Requirement already satisfied: joblib>=1.1.1 in /usr/local/lib/python3.8/dist-packages (from scikit-learn) (1.2.0)\n",
      "Requirement already satisfied: numpy>=1.17.3 in /usr/local/lib/python3.8/dist-packages (from scikit-learn) (1.24.2)\n",
      "Looking in indexes: https://pypi.org/simple, https://us-python.pkg.dev/colab-wheels/public/simple/\n",
      "Requirement already satisfied: torch in /usr/local/lib/python3.8/dist-packages (1.13.1+cu116)\n",
      "Requirement already satisfied: torchvision in /usr/local/lib/python3.8/dist-packages (0.14.1+cu116)\n",
      "Requirement already satisfied: torchaudio in /usr/local/lib/python3.8/dist-packages (0.13.1+cu116)\n",
      "Requirement already satisfied: typing-extensions in /usr/local/lib/python3.8/dist-packages (from torch) (4.5.0)\n",
      "Requirement already satisfied: numpy in /usr/local/lib/python3.8/dist-packages (from torchvision) (1.24.2)\n",
      "Requirement already satisfied: requests in /usr/local/lib/python3.8/dist-packages (from torchvision) (2.25.1)\n",
      "Requirement already satisfied: pillow!=8.3.*,>=5.3.0 in /usr/local/lib/python3.8/dist-packages (from torchvision) (8.4.0)\n",
      "Requirement already satisfied: urllib3<1.27,>=1.21.1 in /usr/local/lib/python3.8/dist-packages (from requests->torchvision) (1.26.14)\n",
      "Requirement already satisfied: chardet<5,>=3.0.2 in /usr/local/lib/python3.8/dist-packages (from requests->torchvision) (4.0.0)\n",
      "Requirement already satisfied: certifi>=2017.4.17 in /usr/local/lib/python3.8/dist-packages (from requests->torchvision) (2022.12.7)\n",
      "Requirement already satisfied: idna<3,>=2.5 in /usr/local/lib/python3.8/dist-packages (from requests->torchvision) (2.10)\n"
     ]
    }
   ],
   "source": [
    "import sys\n",
    "!{sys.executable} -m pip install contractions\n",
    "!{sys.executable} -m pip install gensim==4.2.0\n",
    "!pip install scikit-learn\n",
    "!pip install torch torchvision torchaudio"
   ]
  },
  {
   "cell_type": "code",
   "execution_count": 2,
   "id": "b9cac7ca",
   "metadata": {
    "colab": {
     "base_uri": "https://localhost:8080/"
    },
    "id": "b9cac7ca",
    "outputId": "57fcbd8c-e1e6-460a-e3ad-7a56a4597272"
   },
   "outputs": [
    {
     "name": "stderr",
     "output_type": "stream",
     "text": [
      "[nltk_data] Downloading package punkt to /root/nltk_data...\n",
      "[nltk_data]   Unzipping tokenizers/punkt.zip.\n"
     ]
    }
   ],
   "source": [
    "## Importing and installing libraries\n",
    "\n",
    "import numpy as np\n",
    "import copy\n",
    "import pandas as pd\n",
    "import warnings \n",
    "import re\n",
    "import sys\n",
    "import nltk\n",
    "from gensim.models import Word2Vec\n",
    "from nltk.corpus import stopwords\n",
    "import string\n",
    "from torch import nn\n",
    "import torch.nn as nn\n",
    "import torch.nn.functional as F\n",
    "import torch\n",
    "from torch.nn import CrossEntropyLoss, Softmax, Linear\n",
    "from torch.optim import SGD, Adam\n",
    "from sklearn.metrics.pairwise import cosine_similarity\n",
    "from torch.optim.lr_scheduler import ReduceLROnPlateau\n",
    "from nltk.stem import WordNetLemmatizer\n",
    "from gensim.models import KeyedVectors\n",
    "from gensim import utils\n",
    "from scipy.sparse import hstack\n",
    "from sklearn.feature_extraction.text import TfidfVectorizer\n",
    "from sklearn.model_selection import train_test_split\n",
    "from sklearn.linear_model import Perceptron\n",
    "from sklearn.metrics import classification_report\n",
    "from sklearn import svm\n",
    "from sklearn.linear_model import LogisticRegression\n",
    "from sklearn.naive_bayes import MultinomialNB\n",
    "from sklearn.svm import LinearSVC\n",
    "from statistics import mean\n",
    "from os import path\n",
    "import os.path\n",
    "import gensim\n",
    "import gensim.downloader\n",
    "from sklearn.svm import LinearSVC\n",
    "\n",
    "nltk.download('punkt')\n",
    "\n",
    "warnings.filterwarnings('ignore')\n",
    "\n",
    "import contractions"
   ]
  },
  {
   "cell_type": "markdown",
   "id": "50330ee0",
   "metadata": {
    "id": "50330ee0"
   },
   "source": [
    "## 1. Dataset Generation"
   ]
  },
  {
   "cell_type": "code",
   "execution_count": 3,
   "id": "XthACUqG0PBl",
   "metadata": {
    "colab": {
     "base_uri": "https://localhost:8080/"
    },
    "id": "XthACUqG0PBl",
    "outputId": "cecc013f-e491-4909-f32c-d257abef4795"
   },
   "outputs": [
    {
     "name": "stdout",
     "output_type": "stream",
     "text": [
      "Mounted at /content/drive/\n",
      "/content/drive/My Drive/Colab Notebooks\n"
     ]
    }
   ],
   "source": [
    "from google.colab import drive\n",
    "drive.mount('/content/drive/')\n",
    "%cd /content/drive/My Drive/Colab Notebooks/"
   ]
  },
  {
   "cell_type": "code",
   "execution_count": 4,
   "id": "791a4b96",
   "metadata": {
    "id": "791a4b96"
   },
   "outputs": [],
   "source": [
    "#fields required in the balanced dataframe from the original dataset\n",
    "input_column=[\"review_body\",\"star_rating\"]\n",
    "\n",
    "#reading the original dataset to filter the columns that are required\n",
    "input_df =pd.read_csv('./amazon_reviews_us_Beauty_v1_00.tsv',usecols=input_column,sep='\\t',error_bad_lines=False)"
   ]
  },
  {
   "cell_type": "code",
   "execution_count": 5,
   "id": "3317dfe3",
   "metadata": {
    "id": "3317dfe3"
   },
   "outputs": [],
   "source": [
    "#Creating 3 different classes to get 20000 data from each class to avoid computational burden\n",
    "\n",
    "class_one_df =(input_df[(input_df['star_rating'] == 1) | (input_df['star_rating'] == 2) ]).sample(n=20000)\n",
    "class_one_df['class']=1\n",
    "\n",
    "class_two_df =(input_df[(input_df['star_rating'] == 3)]).sample(n=20000)\n",
    "class_two_df['class']=2\n",
    "\n",
    "class_three_df =(input_df[(input_df['star_rating'] == 4) | (input_df['star_rating'] == 5) ]).sample(n=20000)\n",
    "class_three_df['class']=3\n",
    "\n",
    "#Combining all the data received from each class into a single balanced dataframe\n",
    "\n",
    "amazon_balanced_df = pd.concat([class_one_df, class_two_df, class_three_df])\n",
    "\n",
    "#Resetting the index as we have retrieved different data according to the classes created.\n",
    "#Therefore, we will have irregular or unsorted index keys. \n",
    "#We will reset the index to the new and incremental values from 0\n",
    "\n",
    "amazon_balanced_df = amazon_balanced_df.reset_index(drop=True)\n",
    "\n",
    "# Created a new dataframe consisting of the two columns (star_rating and review_body) \n",
    "#along with class one assigned to them on the basis of star_rating. We are also resetting the index"
   ]
  },
  {
   "cell_type": "markdown",
   "id": "2c26f1c1",
   "metadata": {
    "id": "2c26f1c1"
   },
   "source": [
    "### Data Cleaning "
   ]
  },
  {
   "cell_type": "markdown",
   "id": "2f3d5ab5",
   "metadata": {
    "id": "2f3d5ab5"
   },
   "source": [
    "### Handling null values"
   ]
  },
  {
   "cell_type": "code",
   "execution_count": 6,
   "id": "3b712481",
   "metadata": {
    "id": "3b712481"
   },
   "outputs": [],
   "source": [
    "#We are changing all null values to an empty string\n",
    "\n",
    "amazon_balanced_df = amazon_balanced_df.fillna('')"
   ]
  },
  {
   "cell_type": "code",
   "execution_count": 7,
   "id": "816443d1",
   "metadata": {
    "id": "816443d1"
   },
   "outputs": [],
   "source": [
    "#Uncleaned data copy\n",
    "amazon_df=amazon_balanced_df.copy()"
   ]
  },
  {
   "cell_type": "markdown",
   "id": "de263c8c",
   "metadata": {
    "id": "de263c8c"
   },
   "source": [
    "### Convert all reviews into lowercase"
   ]
  },
  {
   "cell_type": "code",
   "execution_count": 8,
   "id": "6e7707d5",
   "metadata": {
    "id": "6e7707d5"
   },
   "outputs": [],
   "source": [
    "# Converting all review body into lowercase\n",
    "\n",
    "amazon_balanced_df['review_body'] = amazon_balanced_df['review_body'].str.lower()"
   ]
  },
  {
   "cell_type": "markdown",
   "id": "148e2913",
   "metadata": {
    "id": "148e2913"
   },
   "source": [
    "### Remove the HTML from the reviews"
   ]
  },
  {
   "cell_type": "code",
   "execution_count": 9,
   "id": "32ca361f",
   "metadata": {
    "id": "32ca361f"
   },
   "outputs": [],
   "source": [
    "# Removing all the html tags from each review body \n",
    "\n",
    "amazon_balanced_df['review_body']=amazon_balanced_df['review_body'].apply(lambda x : re.sub('<.*?>','',str(x)))\n"
   ]
  },
  {
   "cell_type": "markdown",
   "id": "c7e00124",
   "metadata": {
    "id": "c7e00124"
   },
   "source": [
    "### Remove the URLs from the reviews"
   ]
  },
  {
   "cell_type": "code",
   "execution_count": 10,
   "id": "e6904642",
   "metadata": {
    "id": "e6904642"
   },
   "outputs": [],
   "source": [
    "# Removing all the URLs from each review body \n",
    "\n",
    "amazon_balanced_df['review_body'] = amazon_balanced_df['review_body'].apply(lambda y: re.split('https:\\/\\/.*', str(y))[0])\n"
   ]
  },
  {
   "cell_type": "markdown",
   "id": "ec91edcf",
   "metadata": {
    "id": "ec91edcf"
   },
   "source": [
    "### Remove non-alphabetical characters"
   ]
  },
  {
   "cell_type": "code",
   "execution_count": 11,
   "id": "43757d50",
   "metadata": {
    "id": "43757d50"
   },
   "outputs": [],
   "source": [
    "# Removing all the non alphabetic chaarcters(symbols, numbers) from each review body \n",
    "\n",
    "amazon_balanced_df['review_body'] = amazon_balanced_df['review_body'].apply(lambda z: \" \".join([re.sub('[^A-Za-z]+','', z) for z in nltk.word_tokenize(z)]))\n"
   ]
  },
  {
   "cell_type": "markdown",
   "id": "3e5e594d",
   "metadata": {
    "id": "3e5e594d"
   },
   "source": [
    "### Remove extra spaces"
   ]
  },
  {
   "cell_type": "code",
   "execution_count": 12,
   "id": "d078c690",
   "metadata": {
    "id": "d078c690"
   },
   "outputs": [],
   "source": [
    "# Will remove leading and trailing spaces\n",
    "amazon_balanced_df['review_body'] = amazon_balanced_df['review_body'].str.strip()\n"
   ]
  },
  {
   "cell_type": "markdown",
   "id": "d7769377",
   "metadata": {
    "id": "d7769377"
   },
   "source": [
    "### Perform contractions on the review_body"
   ]
  },
  {
   "cell_type": "code",
   "execution_count": 13,
   "id": "0f866c40",
   "metadata": {
    "id": "0f866c40"
   },
   "outputs": [],
   "source": [
    "## This will elongate the short form used in sentences like (I'll ---> I will)\n",
    "\n",
    "amazon_balanced_df['without_contraction'] = amazon_balanced_df['review_body'].apply(lambda a: [contractions.fix(word) for word in a.split()])\n",
    "amazon_balanced_df['review_body'] = [' '.join(map(str, x)) for x in amazon_balanced_df['without_contraction']]\n"
   ]
  },
  {
   "cell_type": "markdown",
   "id": "eb8d8987",
   "metadata": {
    "id": "eb8d8987"
   },
   "source": [
    "## Remove Punctuations "
   ]
  },
  {
   "cell_type": "code",
   "execution_count": 14,
   "id": "f7a428a2",
   "metadata": {
    "id": "f7a428a2"
   },
   "outputs": [],
   "source": [
    "amazon_balanced_df['review_body'] = amazon_balanced_df['review_body'].str.replace(r'[^\\w\\s]+', '')"
   ]
  },
  {
   "cell_type": "markdown",
   "id": "6866fdc8",
   "metadata": {
    "id": "6866fdc8"
   },
   "source": [
    "## 2. Word Embedding"
   ]
  },
  {
   "cell_type": "markdown",
   "id": "0f4d2c8d",
   "metadata": {
    "id": "0f4d2c8d"
   },
   "source": [
    "### (a) Downloading pretrained word2vec-google-news-300"
   ]
  },
  {
   "cell_type": "code",
   "execution_count": null,
   "id": "70cad8bc",
   "metadata": {
    "id": "70cad8bc"
   },
   "outputs": [],
   "source": [
    "# word2vec_model = gensim.downloader.load('word2vec-google-news-300')"
   ]
  },
  {
   "cell_type": "code",
   "execution_count": null,
   "id": "-n5SJOQw57-p",
   "metadata": {
    "id": "-n5SJOQw57-p"
   },
   "outputs": [],
   "source": [
    "# word2vec_model.save('Gensim_word2vec_model.kv')"
   ]
  },
  {
   "cell_type": "code",
   "execution_count": 15,
   "id": "VMg9nAd57Wv0",
   "metadata": {
    "id": "VMg9nAd57Wv0"
   },
   "outputs": [],
   "source": [
    "from gensim.models import KeyedVectors\n",
    "word2vec_model= KeyedVectors.load(\"Gensim_word2vec_model.kv\")"
   ]
  },
  {
   "cell_type": "markdown",
   "id": "d0af3c50",
   "metadata": {
    "id": "d0af3c50"
   },
   "source": [
    "### (b) Training word2vec model on our own dataset"
   ]
  },
  {
   "cell_type": "code",
   "execution_count": 16,
   "id": "61dafe8b",
   "metadata": {
    "id": "61dafe8b"
   },
   "outputs": [],
   "source": [
    "class dataEmbed:\n",
    "    def __init__(self, data_set):\n",
    "      self.data_set = data_set\n",
    "\n",
    "    def __iter__(self):\n",
    "        for x in self.data_set:\n",
    "            yield utils.simple_preprocess(x)"
   ]
  },
  {
   "cell_type": "code",
   "execution_count": null,
   "id": "caedc654",
   "metadata": {
    "id": "caedc654"
   },
   "outputs": [],
   "source": [
    "# sentence_embed = dataEmbed(amazon_balanced_df.review_body)\n",
    "# # window=13\n",
    "# # vector_size=300\n",
    "# # min_count=9\n",
    "# embed_word2vec = Word2Vec(sentences=sentence_embed, vector_size=300, min_count=9, window=13)\n",
    "# model = embed_word2vec.wv"
   ]
  },
  {
   "cell_type": "markdown",
   "id": "9c94ec17",
   "metadata": {
    "id": "9c94ec17"
   },
   "source": [
    "### Process to extract word2vec embeddings"
   ]
  },
  {
   "cell_type": "code",
   "execution_count": 18,
   "id": "aa9e771f",
   "metadata": {
    "id": "aa9e771f"
   },
   "outputs": [],
   "source": [
    "### To concatenate first 10 Word2Vec vectors for each review as the input feature\n",
    "\n",
    "embedding_space_concat = []\n",
    "for i in range(60000):\n",
    "    vectorWord = np.zeros((1,300))  # change the size of the vector\n",
    "    listword = amazon_df['review_body'][i].split(\" \")\n",
    "    for item in listword[:10]:\n",
    "        if item in word2vec_model:\n",
    "            vectorWord = np.concatenate([vectorWord, np.expand_dims(word2vec_model[item], axis=0)], axis=0)\n",
    "\n",
    "    vectorWord = vectorWord[1:]\n",
    "    if len(vectorWord)<10:\n",
    "        for i in range(10 - len(vectorWord)):\n",
    "            vectorWord = np.concatenate([vectorWord, np.zeros((1,300))], axis=0)         \n",
    "    embedding_space_concat.append(vectorWord)\n",
    "    \n",
    "embedding_dataset_concat = np.array(embedding_space_concat)\n",
    "embedding_dataset_concat = embedding_dataset_concat.reshape(embedding_dataset_concat.shape[0], embedding_dataset_concat.shape[1]*embedding_dataset_concat.shape[2])"
   ]
  },
  {
   "cell_type": "code",
   "execution_count": 19,
   "id": "Ec5IXA7u_3gs",
   "metadata": {
    "colab": {
     "base_uri": "https://localhost:8080/"
    },
    "id": "Ec5IXA7u_3gs",
    "outputId": "955ab7ec-b198-43c2-d6d5-d60e48938ff1"
   },
   "outputs": [
    {
     "name": "stdout",
     "output_type": "stream",
     "text": [
      "(60000, 3000)\n"
     ]
    }
   ],
   "source": [
    "print(embedding_dataset_concat.shape)"
   ]
  },
  {
   "cell_type": "code",
   "execution_count": 20,
   "id": "45634361",
   "metadata": {
    "colab": {
     "base_uri": "https://localhost:8080/"
    },
    "id": "45634361",
    "outputId": "84b381d9-3a87-4c40-94d7-155aa732ef52"
   },
   "outputs": [
    {
     "name": "stdout",
     "output_type": "stream",
     "text": [
      "(48000, 3000) (12000, 3000) (48000,) (12000,)\n"
     ]
    }
   ],
   "source": [
    "P_train, P_test, Q_train, Q_test = train_test_split(embedding_dataset_concat, amazon_df['class'], test_size=0.20, random_state=42, stratify=amazon_df['class'])\n",
    "\n",
    "Q_train = Q_train.reset_index(drop=True)\n",
    "Q_test = Q_test.reset_index(drop=True)\n",
    "\n",
    "\n",
    "print(P_train.shape, P_test.shape, Q_train.shape, Q_test.shape)"
   ]
  },
  {
   "cell_type": "code",
   "execution_count": null,
   "id": "9zcCtG1624mc",
   "metadata": {
    "colab": {
     "base_uri": "https://localhost:8080/"
    },
    "id": "9zcCtG1624mc",
    "outputId": "7679843e-f370-461d-cee2-971f9a9e4ed6"
   },
   "outputs": [
    {
     "data": {
      "text/plain": [
       "numpy.ndarray"
      ]
     },
     "execution_count": 25,
     "metadata": {},
     "output_type": "execute_result"
    }
   ],
   "source": [
    "type(P_train)"
   ]
  },
  {
   "cell_type": "markdown",
   "id": "1825c7c4",
   "metadata": {
    "id": "1825c7c4"
   },
   "source": [
    "## 4. Feedforward Neural Networks"
   ]
  },
  {
   "cell_type": "code",
   "execution_count": 21,
   "id": "6069036d",
   "metadata": {
    "id": "6069036d"
   },
   "outputs": [],
   "source": [
    "from torch.utils.data import Dataset, DataLoader"
   ]
  },
  {
   "cell_type": "code",
   "execution_count": 22,
   "id": "32ee0a2c",
   "metadata": {
    "id": "32ee0a2c"
   },
   "outputs": [],
   "source": [
    "#Creating a dataloader using torch\n",
    "class dataloader(torch.utils.data.Dataset):\n",
    "    def __init__(self, dataset_record, label_record):\n",
    "        self.dataset = dataset_record\n",
    "        self.labels = label_record\n",
    "        \n",
    "    def __len__(self):\n",
    "        return len(self.labels)\n",
    "        \n",
    "    def __getitem__(self, index):\n",
    "        dataset = self.dataset[index]\n",
    "        labels  = self.labels[index]\n",
    "        \n",
    "        return dataset, labels"
   ]
  },
  {
   "cell_type": "code",
   "execution_count": 23,
   "id": "ee89b8ef",
   "metadata": {
    "id": "ee89b8ef"
   },
   "outputs": [],
   "source": [
    "#Creating classes to define the architecure \n",
    "class feedForward(nn.Module):\n",
    "    def __init__(self, output_size, input_size):\n",
    "        super(feedForward, self).__init__()\n",
    "        self.layer1 = nn.Linear(input_size, 300)\n",
    "        self.relu1 = nn.ReLU()\n",
    "        self.layer2 = nn.Linear(300, 100)\n",
    "        self.relu2 = nn.ReLU()\n",
    "        self.layer3 = nn.Linear(100, output_size)\n",
    "\n",
    "    def forward(self, x):\n",
    "        return  self.layer3(self.relu2(self.layer2(self.relu1(self.layer1(x)))))\n",
    "\n"
   ]
  },
  {
   "cell_type": "code",
   "execution_count": 24,
   "id": "eb8a040c",
   "metadata": {
    "colab": {
     "base_uri": "https://localhost:8080/"
    },
    "id": "eb8a040c",
    "outputId": "f96b9b01-a88d-42cf-acb8-12c570d5a7a4"
   },
   "outputs": [
    {
     "data": {
      "text/plain": [
       "feedForward(\n",
       "  (layer1): Linear(in_features=3000, out_features=300, bias=True)\n",
       "  (relu1): ReLU()\n",
       "  (layer2): Linear(in_features=300, out_features=100, bias=True)\n",
       "  (relu2): ReLU()\n",
       "  (layer3): Linear(in_features=100, out_features=3, bias=True)\n",
       ")"
      ]
     },
     "execution_count": 24,
     "metadata": {},
     "output_type": "execute_result"
    }
   ],
   "source": [
    "fnn=feedForward(3,3000)\n",
    "fnn"
   ]
  },
  {
   "cell_type": "markdown",
   "id": "a845cb38",
   "metadata": {
    "id": "a845cb38"
   },
   "source": [
    "### (b) "
   ]
  },
  {
   "cell_type": "code",
   "execution_count": 25,
   "id": "d7171096",
   "metadata": {
    "id": "d7171096"
   },
   "outputs": [],
   "source": [
    "# Convert P_train and P_test to float32 \n",
    "A_word2vec_train = P_train.astype(np.float32)\n",
    "A_word2vec_test  = P_test.astype(np.float32)\n",
    "\n",
    "# Subtract 1 from B_train and B_test values\n",
    "B_train = Q_train - 1\n",
    "B_test = Q_test - 1\n",
    "\n",
    "# Create PyTorch DataLoader objects for the training and testing sets\n",
    "train_dataset = dataloader(A_word2vec_train, B_train)\n",
    "train_set = torch.utils.data.DataLoader(train_dataset, batch_size=50)\n",
    "\n",
    "test_dataset = dataloader(A_word2vec_test, B_test)\n",
    "test_set = torch.utils.data.DataLoader(test_dataset, batch_size=50)"
   ]
  },
  {
   "cell_type": "code",
   "execution_count": 26,
   "id": "smcVtvTOyavb",
   "metadata": {
    "id": "smcVtvTOyavb"
   },
   "outputs": [],
   "source": [
    "from sklearn.metrics import accuracy_score, f1_score"
   ]
  },
  {
   "cell_type": "code",
   "execution_count": 27,
   "id": "4b31d304",
   "metadata": {
    "id": "4b31d304"
   },
   "outputs": [],
   "source": [
    "def train(reviews_dataloader_train, reviews_dataloader_test, model, num_epochs, concat=True, rnn=False, gru=False, prev_loss=float('inf')):\n",
    "    y_pred_label_train = []\n",
    "    y_true_label_train = []\n",
    "    y_pred_label_test = []\n",
    "    y_true_label_test = []\n",
    "    \n",
    "    # Set the device for the model\n",
    "    # device = torch.device('cuda' if torch.cuda.is_available() else 'cpu')\n",
    "    # model.to(device)\n",
    "    \n",
    "    # Define the loss function and optimizer\n",
    "    criterion = nn.CrossEntropyLoss()\n",
    "    optimizer = Adam(model.parameters(), lr=0.001)\n",
    "    softmax = Softmax(dim=1)\n",
    "    \n",
    "    # Define the scheduler\n",
    "    scheduler = torch.optim.lr_scheduler.StepLR(optimizer, step_size=5, gamma=0.1)\n",
    "    \n",
    "    # Keep track of the best model\n",
    "    best_model_wts = copy.deepcopy(model.state_dict())\n",
    "    best_acc = 0.0\n",
    "    \n",
    "    # Keep track of the previous loss\n",
    "    loss_min = prev_loss\n",
    "    \n",
    "    # Train the model\n",
    "    for epoch in range(num_epochs):\n",
    "        print('\\n Epoch: {}'.format(epoch))\n",
    "        \n",
    "        # print(reviews_dataloader_train)\n",
    "        for j, (x, y) in enumerate(reviews_dataloader_train):\n",
    "            y_pred = model(x)\n",
    "            y_pred_label_train.append(torch.argmax(softmax(y_pred.detach()), axis=1))\n",
    "            y_true_label_train.append(y.detach())\n",
    "            loss = criterion(y_pred, y)\n",
    "            \n",
    "            optimizer.zero_grad()\n",
    "            loss.backward()\n",
    "            optimizer.step()\n",
    "            \n",
    "            # if j % 100 == 0:\n",
    "            #     print('Epoch {:03} Batch {:03}/{:03} Loss: {:.4f}'.format(epoch, j, len(reviews_dataloader_train), loss.item()))\n",
    "                \n",
    "        # Evaluate the model on the test set\n",
    "        with torch.no_grad():\n",
    "            for x, y in reviews_dataloader_test:\n",
    "                y_pred = model(x)\n",
    "                y_pred_label_test.append(torch.argmax(softmax(y_pred.detach()), axis=1))\n",
    "                y_true_label_test.append(y.detach())\n",
    "\n",
    "        # Calculate accuracy and f1-score\n",
    "        y_pred_train = torch.cat(y_pred_label_train)\n",
    "        y_true_train = torch.cat(y_true_label_train)\n",
    "        y_pred_test = torch.cat(y_pred_label_test)\n",
    "        y_true_test = torch.cat(y_true_label_test)\n",
    "        \n",
    "        train_acc = accuracy_score(y_true_train.cpu().numpy(), y_pred_train.cpu().numpy())\n",
    "        test_acc = accuracy_score(y_true_test.cpu().numpy(), y_pred_test.cpu().numpy())\n",
    "        train_f1 = f1_score(y_true_train.cpu().numpy(), y_pred_train.cpu().numpy(), average='macro')\n",
    "        test_f1 = f1_score(y_true_test.cpu().numpy(), y_pred_test.cpu().numpy(), average='macro')\n",
    "\n",
    "        print('Epoch: {:03}, Loss: {:.4f}, Train Acc: {:.4f}, Test Acc: {:.4f}'.format(epoch, loss.item(), train_acc, test_acc))\n",
    "        \n",
    "        # Update the learning rate\n",
    "        scheduler.step()\n",
    "        \n",
    "        # Save the best model based on test accuracy\n",
    "        if test_acc > best_acc:\n",
    "            best_acc = test_acc\n",
    "            best_model_wts = copy.deepcopy(model.state_dict())\n",
    "            \n",
    "        # Save the model checkpoint\n",
    "        # if loss.item() < loss_min:\n",
    "        #     print(f'Loss decreased from {loss_min:.4f} to {loss.item():.4f}. Saving model...')\n",
    "        #     torch.save(model.state_dict(), 'model_checkpoint.pt')\n",
    "        #     loss\n"
   ]
  },
  {
   "cell_type": "code",
   "execution_count": 28,
   "id": "84c5dd8f",
   "metadata": {
    "colab": {
     "base_uri": "https://localhost:8080/"
    },
    "id": "84c5dd8f",
    "outputId": "e0c3cfa5-b866-4a82-846e-4623b84f5d3a"
   },
   "outputs": [
    {
     "name": "stdout",
     "output_type": "stream",
     "text": [
      "\n",
      " Epoch: 0\n",
      "Epoch: 000, Loss: 0.9506, Train Acc: 0.5246, Test Acc: 0.5460\n",
      "\n",
      " Epoch: 1\n",
      "Epoch: 001, Loss: 0.8462, Train Acc: 0.5612, Test Acc: 0.5457\n",
      "\n",
      " Epoch: 2\n",
      "Epoch: 002, Loss: 0.7152, Train Acc: 0.6004, Test Acc: 0.5366\n",
      "\n",
      " Epoch: 3\n",
      "Epoch: 003, Loss: 0.5106, Train Acc: 0.6424, Test Acc: 0.5287\n",
      "\n",
      " Epoch: 4\n",
      "Epoch: 004, Loss: 0.4892, Train Acc: 0.6795, Test Acc: 0.5248\n",
      "\n",
      " Epoch: 5\n",
      "Epoch: 005, Loss: 0.5019, Train Acc: 0.7056, Test Acc: 0.5249\n",
      "\n",
      " Epoch: 6\n",
      "Epoch: 006, Loss: 0.4329, Train Acc: 0.7307, Test Acc: 0.5245\n",
      "\n",
      " Epoch: 7\n",
      "Epoch: 007, Loss: 0.3555, Train Acc: 0.7528, Test Acc: 0.5241\n",
      "\n",
      " Epoch: 8\n",
      "Epoch: 008, Loss: 0.2691, Train Acc: 0.7723, Test Acc: 0.5237\n",
      "\n",
      " Epoch: 9\n",
      "Epoch: 009, Loss: 0.1962, Train Acc: 0.7894, Test Acc: 0.5233\n",
      "\n",
      " Epoch: 10\n",
      "Epoch: 010, Loss: 0.1898, Train Acc: 0.8041, Test Acc: 0.5228\n",
      "\n",
      " Epoch: 11\n",
      "Epoch: 011, Loss: 0.1857, Train Acc: 0.8167, Test Acc: 0.5224\n",
      "\n",
      " Epoch: 12\n",
      "Epoch: 012, Loss: 0.1792, Train Acc: 0.8277, Test Acc: 0.5219\n",
      "\n",
      " Epoch: 13\n",
      "Epoch: 013, Loss: 0.1708, Train Acc: 0.8371, Test Acc: 0.5214\n",
      "\n",
      " Epoch: 14\n",
      "Epoch: 014, Loss: 0.1628, Train Acc: 0.8455, Test Acc: 0.5211\n",
      "\n",
      " Epoch: 15\n",
      "Epoch: 015, Loss: 0.1601, Train Acc: 0.8529, Test Acc: 0.5207\n",
      "\n",
      " Epoch: 16\n",
      "Epoch: 016, Loss: 0.1590, Train Acc: 0.8594, Test Acc: 0.5204\n",
      "\n",
      " Epoch: 17\n",
      "Epoch: 017, Loss: 0.1580, Train Acc: 0.8653, Test Acc: 0.5202\n",
      "\n",
      " Epoch: 18\n",
      "Epoch: 018, Loss: 0.1570, Train Acc: 0.8705, Test Acc: 0.5200\n",
      "\n",
      " Epoch: 19\n",
      "Epoch: 019, Loss: 0.1561, Train Acc: 0.8752, Test Acc: 0.5198\n"
     ]
    }
   ],
   "source": [
    "train(train_set, test_set, fnn, 20)"
   ]
  },
  {
   "cell_type": "code",
   "execution_count": null,
   "id": "gSD_AfRS3gaG",
   "metadata": {
    "id": "gSD_AfRS3gaG"
   },
   "outputs": [],
   "source": []
  }
 ],
 "metadata": {
  "accelerator": "TPU",
  "colab": {
   "provenance": []
  },
  "gpuClass": "standard",
  "kernelspec": {
   "display_name": "Python 3 (ipykernel)",
   "language": "python",
   "name": "python3"
  },
  "language_info": {
   "codemirror_mode": {
    "name": "ipython",
    "version": 3
   },
   "file_extension": ".py",
   "mimetype": "text/x-python",
   "name": "python",
   "nbconvert_exporter": "python",
   "pygments_lexer": "ipython3",
   "version": "3.9.13"
  }
 },
 "nbformat": 4,
 "nbformat_minor": 5
}
